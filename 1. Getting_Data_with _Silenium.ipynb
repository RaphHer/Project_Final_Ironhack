{
 "cells": [
  {
   "cell_type": "markdown",
   "id": "d4226602",
   "metadata": {},
   "source": [
    "# Scraping Capital IQ "
   ]
  },
  {
   "cell_type": "markdown",
   "id": "2b758117",
   "metadata": {},
   "source": [
    "### Import the relevant libraries "
   ]
  },
  {
   "cell_type": "code",
   "execution_count": 12,
   "id": "3905013e",
   "metadata": {},
   "outputs": [
    {
     "data": {
      "text/plain": [
       "'C:\\\\Users\\\\rapha\\\\miniconda3\\\\envs\\\\spacy\\\\lib\\\\site-packages\\\\chromedriver_autoinstaller\\\\107\\\\chromedriver.exe'"
      ]
     },
     "execution_count": 12,
     "metadata": {},
     "output_type": "execute_result"
    }
   ],
   "source": [
    "import chromedriver_autoinstaller #to access chrome through jupyter notebook\n",
    "chromedriver_autoinstaller.install()"
   ]
  },
  {
   "cell_type": "code",
   "execution_count": 13,
   "id": "733bd1c5",
   "metadata": {},
   "outputs": [],
   "source": [
    "from selenium import webdriver\n",
    "from selenium.webdriver.common.keys import Keys\n",
    "from selenium.webdriver.common.by import By\n",
    "from selenium.webdriver.support.ui import WebDriverWait\n",
    "from selenium.webdriver.support import expected_conditions as EC\n",
    "from selenium import webdriver\n",
    "from selenium.webdriver.support.ui import Select"
   ]
  },
  {
   "cell_type": "code",
   "execution_count": 14,
   "id": "3f2ff769",
   "metadata": {},
   "outputs": [
    {
     "data": {
      "text/plain": [
       "True"
      ]
     },
     "execution_count": 14,
     "metadata": {},
     "output_type": "execute_result"
    }
   ],
   "source": [
    "from bs4 import BeautifulSoup\n",
    "import re as re\n",
    "import time\n",
    "import pandas as pd\n",
    "import os\n",
    "import numpy as np\n",
    "\n",
    "import pymysql\n",
    "import sqlalchemy as alch\n",
    "from getpass import getpass\n",
    "\n",
    "import googletrans\n",
    "from nltk.sentiment.vader import SentimentIntensityAnalyzer\n",
    "import spacy\n",
    "\n",
    "\n",
    "from dotenv import load_dotenv\n",
    "load_dotenv()"
   ]
  },
  {
   "cell_type": "markdown",
   "id": "6a54bfa4",
   "metadata": {},
   "source": [
    "### Open up Capital IQ"
   ]
  },
  {
   "cell_type": "code",
   "execution_count": 24,
   "id": "8dd6eb6e",
   "metadata": {},
   "outputs": [],
   "source": [
    "driver = webdriver.Chrome()"
   ]
  },
  {
   "cell_type": "code",
   "execution_count": 25,
   "id": "b75db68a",
   "metadata": {},
   "outputs": [],
   "source": [
    "url = \"https://www.capitaliq.com/ciqdotnet/login-sso.aspx?bmctx=05D50DFC1A22D156FEC7A630EB2EFA98&enablePersistentLogin=true&OAUTH_SSO_ENC_KEY=C57DBB5C08DA42B6E90C86AF0C895A9B1C0828BB0FD48E2881852858161950DE&password=secure_string&OAUTH_TOKEN_RESPONSE=header&contextType=external&IS_OAUTH_OAM_SSO_LINK_ENABLED=true&OAUTH_SSO_ID_DOMAIN=SPGLBDomain&IS_OAUTH_USER_ASSERTION_ENABLED=true&OverrideRetryLimit=0&env=WAM12C&username=string&challenge_url=https%3A%2F%2Fwww.capitaliq.com%2Fciqdotnet%2Flogin-sso.aspx&request_id=-1230948844503376030&authn_try_count=0&locale=en_GB&resource_url=https%253A%252F%252Fwww.capitaliq.com%252FCIQDotNet%252FLogin.aspx\""
   ]
  },
  {
   "cell_type": "code",
   "execution_count": 26,
   "id": "8c31d3bd",
   "metadata": {},
   "outputs": [],
   "source": [
    "driver.get(url)"
   ]
  },
  {
   "cell_type": "code",
   "execution_count": 27,
   "id": "4c6944f8",
   "metadata": {},
   "outputs": [],
   "source": [
    "options = webdriver.ChromeOptions() #Why do we use this ? "
   ]
  },
  {
   "cell_type": "code",
   "execution_count": 28,
   "id": "7dc00910",
   "metadata": {},
   "outputs": [],
   "source": [
    "options.add_argument(\"--incognito\") #Why do we use this ? "
   ]
  },
  {
   "cell_type": "markdown",
   "id": "2e9c7fe0",
   "metadata": {},
   "source": [
    "### Get paths to the form "
   ]
  },
  {
   "cell_type": "code",
   "execution_count": 29,
   "id": "14cc7205",
   "metadata": {},
   "outputs": [],
   "source": [
    "username = driver.find_element(By.ID, \"username\")\n",
    "password = driver.find_element(By.ID, \"password\")"
   ]
  },
  {
   "cell_type": "code",
   "execution_count": 30,
   "id": "a0bacd35",
   "metadata": {},
   "outputs": [],
   "source": [
    "my_username = os.getenv(\"USERNAME\")\n",
    "my_password = os.getenv(\"PASSWORD\")"
   ]
  },
  {
   "cell_type": "code",
   "execution_count": 31,
   "id": "5826b80f",
   "metadata": {},
   "outputs": [],
   "source": [
    "username.send_keys(my_username)\n",
    "password.send_keys(my_password)"
   ]
  },
  {
   "cell_type": "code",
   "execution_count": 32,
   "id": "f3b3c88c",
   "metadata": {},
   "outputs": [],
   "source": [
    "password.send_keys(Keys.RETURN)"
   ]
  },
  {
   "cell_type": "code",
   "execution_count": null,
   "id": "522bfb1d",
   "metadata": {},
   "outputs": [],
   "source": []
  }
 ],
 "metadata": {
  "kernelspec": {
   "display_name": "spacy",
   "language": "python",
   "name": "spacy"
  },
  "language_info": {
   "codemirror_mode": {
    "name": "ipython",
    "version": 3
   },
   "file_extension": ".py",
   "mimetype": "text/x-python",
   "name": "python",
   "nbconvert_exporter": "python",
   "pygments_lexer": "ipython3",
   "version": "3.10.4"
  }
 },
 "nbformat": 4,
 "nbformat_minor": 5
}
