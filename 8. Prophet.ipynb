{
 "cells": [
  {
   "cell_type": "code",
   "execution_count": null,
   "id": "acb6c5aa",
   "metadata": {},
   "outputs": [],
   "source": [
    "import matplotlib.pyplot as plt\n",
    "import yfinance as yf \n",
    "from prophet import Prophet"
   ]
  },
  {
   "cell_type": "code",
   "execution_count": null,
   "id": "aaca98f6",
   "metadata": {
    "scrolled": true
   },
   "outputs": [],
   "source": [
    "import cmdstanpy\n",
    "cmdstanpy.install_cmdstan()\n",
    "cmdstanpy.install_cmdstan(compiler=True)"
   ]
  },
  {
   "cell_type": "code",
   "execution_count": null,
   "id": "c2160d52",
   "metadata": {},
   "outputs": [],
   "source": [
    "df = yf.download ('MSFT', start='2021-01-01')"
   ]
  },
  {
   "cell_type": "code",
   "execution_count": null,
   "id": "5f4a62c5",
   "metadata": {},
   "outputs": [],
   "source": [
    "df"
   ]
  },
  {
   "cell_type": "code",
   "execution_count": null,
   "id": "12ce237a",
   "metadata": {},
   "outputs": [],
   "source": [
    "df = df.reset_index()"
   ]
  },
  {
   "cell_type": "code",
   "execution_count": null,
   "id": "826fbe93",
   "metadata": {},
   "outputs": [],
   "source": [
    "df"
   ]
  },
  {
   "cell_type": "code",
   "execution_count": null,
   "id": "74e84fea",
   "metadata": {},
   "outputs": [],
   "source": [
    "df[['ds','y']] = df[['Date','Adj Close']]\n",
    "df = df[['ds','y']]\n",
    "df"
   ]
  },
  {
   "cell_type": "code",
   "execution_count": null,
   "id": "e25615fa",
   "metadata": {},
   "outputs": [],
   "source": [
    "model = Prophet()"
   ]
  },
  {
   "cell_type": "code",
   "execution_count": null,
   "id": "161e3b58",
   "metadata": {},
   "outputs": [],
   "source": [
    "model.fit(df) # no needs to specify which column to take as it will take by default the ds and y column"
   ]
  },
  {
   "cell_type": "code",
   "execution_count": null,
   "id": "507efb3a",
   "metadata": {},
   "outputs": [],
   "source": [
    "future = model.make_future_dataframe(365)"
   ]
  },
  {
   "cell_type": "code",
   "execution_count": null,
   "id": "02b8b98b",
   "metadata": {},
   "outputs": [],
   "source": [
    "forecast = model.predict(future)"
   ]
  },
  {
   "cell_type": "code",
   "execution_count": null,
   "id": "d32453b8",
   "metadata": {},
   "outputs": [],
   "source": [
    "forecast"
   ]
  },
  {
   "cell_type": "code",
   "execution_count": null,
   "id": "4b2ddd0c",
   "metadata": {},
   "outputs": [],
   "source": [
    "model.plot(forecast)\n",
    "plt.show()"
   ]
  },
  {
   "cell_type": "code",
   "execution_count": null,
   "id": "19142c54",
   "metadata": {},
   "outputs": [],
   "source": [
    "model.plot_components(forecast)\n",
    "plt.show()"
   ]
  },
  {
   "cell_type": "code",
   "execution_count": null,
   "id": "73aaa428",
   "metadata": {},
   "outputs": [],
   "source": []
  }
 ],
 "metadata": {
  "kernelspec": {
   "display_name": "Python (prophet)",
   "language": "python",
   "name": "prophet"
  },
  "language_info": {
   "codemirror_mode": {
    "name": "ipython",
    "version": 3
   },
   "file_extension": ".py",
   "mimetype": "text/x-python",
   "name": "python",
   "nbconvert_exporter": "python",
   "pygments_lexer": "ipython3",
   "version": "3.10.8"
  }
 },
 "nbformat": 4,
 "nbformat_minor": 5
}
