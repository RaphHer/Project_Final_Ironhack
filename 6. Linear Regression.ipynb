{
 "cells": [
  {
   "cell_type": "code",
   "execution_count": 103,
   "id": "fe00de5b",
   "metadata": {},
   "outputs": [],
   "source": [
    "import pandas as pd\n",
    "import numpy as np\n",
    "import seaborn as sn\n",
    "import matplotlib.pyplot as plt\n",
    "from sklearn.linear_model import LinearRegression\n",
    "from sklearn.metrics import r2_score\n",
    "plt.style.use('fivethirtyeight')"
   ]
  },
  {
   "cell_type": "markdown",
   "id": "eedbca51",
   "metadata": {},
   "source": [
    "### Predict the S&P500 - Linear Regression"
   ]
  },
  {
   "cell_type": "code",
   "execution_count": 104,
   "id": "3ef4fd2a",
   "metadata": {},
   "outputs": [
    {
     "data": {
      "text/html": [
       "<div>\n",
       "<style scoped>\n",
       "    .dataframe tbody tr th:only-of-type {\n",
       "        vertical-align: middle;\n",
       "    }\n",
       "\n",
       "    .dataframe tbody tr th {\n",
       "        vertical-align: top;\n",
       "    }\n",
       "\n",
       "    .dataframe thead th {\n",
       "        text-align: right;\n",
       "    }\n",
       "</style>\n",
       "<table border=\"1\" class=\"dataframe\">\n",
       "  <thead>\n",
       "    <tr style=\"text-align: right;\">\n",
       "      <th></th>\n",
       "      <th>Date</th>\n",
       "      <th>S&amp;P 500</th>\n",
       "    </tr>\n",
       "  </thead>\n",
       "  <tbody>\n",
       "    <tr>\n",
       "      <th>1871-01-01</th>\n",
       "      <td>1871-01-01</td>\n",
       "      <td>105.76</td>\n",
       "    </tr>\n",
       "    <tr>\n",
       "      <th>1871-02-01</th>\n",
       "      <td>1871-02-01</td>\n",
       "      <td>104.02</td>\n",
       "    </tr>\n",
       "    <tr>\n",
       "      <th>1871-03-01</th>\n",
       "      <td>1871-03-01</td>\n",
       "      <td>105.01</td>\n",
       "    </tr>\n",
       "    <tr>\n",
       "      <th>1871-04-01</th>\n",
       "      <td>1871-04-01</td>\n",
       "      <td>112.01</td>\n",
       "    </tr>\n",
       "    <tr>\n",
       "      <th>1871-05-01</th>\n",
       "      <td>1871-05-01</td>\n",
       "      <td>117.56</td>\n",
       "    </tr>\n",
       "    <tr>\n",
       "      <th>...</th>\n",
       "      <td>...</td>\n",
       "      <td>...</td>\n",
       "    </tr>\n",
       "    <tr>\n",
       "      <th>2022-07-01</th>\n",
       "      <td>2022-07-01</td>\n",
       "      <td>3918.75</td>\n",
       "    </tr>\n",
       "    <tr>\n",
       "      <th>2022-08-01</th>\n",
       "      <td>2022-08-01</td>\n",
       "      <td>4167.51</td>\n",
       "    </tr>\n",
       "    <tr>\n",
       "      <th>2022-09-01</th>\n",
       "      <td>2022-09-01</td>\n",
       "      <td>3850.52</td>\n",
       "    </tr>\n",
       "    <tr>\n",
       "      <th>2022-10-01</th>\n",
       "      <td>2022-10-01</td>\n",
       "      <td>3726.05</td>\n",
       "    </tr>\n",
       "    <tr>\n",
       "      <th>2022-11-01</th>\n",
       "      <td>2022-11-01</td>\n",
       "      <td>3856.10</td>\n",
       "    </tr>\n",
       "  </tbody>\n",
       "</table>\n",
       "<p>1823 rows × 2 columns</p>\n",
       "</div>"
      ],
      "text/plain": [
       "                 Date  S&P 500\n",
       "1871-01-01 1871-01-01   105.76\n",
       "1871-02-01 1871-02-01   104.02\n",
       "1871-03-01 1871-03-01   105.01\n",
       "1871-04-01 1871-04-01   112.01\n",
       "1871-05-01 1871-05-01   117.56\n",
       "...               ...      ...\n",
       "2022-07-01 2022-07-01  3918.75\n",
       "2022-08-01 2022-08-01  4167.51\n",
       "2022-09-01 2022-09-01  3850.52\n",
       "2022-10-01 2022-10-01  3726.05\n",
       "2022-11-01 2022-11-01  3856.10\n",
       "\n",
       "[1823 rows x 2 columns]"
      ]
     },
     "execution_count": 104,
     "metadata": {},
     "output_type": "execute_result"
    }
   ],
   "source": [
    "# Load the data \n",
    "df_merged_quandl = pd.read_csv(r\".\\cleaned_data\\02. Quandl\\df_merged_quandl.csv\") # open the dataframe\n",
    "df_merged_quandl = pd.DataFrame(df_merged_quandl[['Date','S&P 500']])\n",
    "df_merged_quandl['Date'] = pd.to_datetime(df_merged_quandl['Date']) # putting back the day so we have beginning of the month everywhere\n",
    "\n",
    "#Set the date as index\n",
    "df_merged_quandl = df_merged_quandl.set_index(pd.DatetimeIndex(df_merged_quandl['Date'].values))\n",
    "df_merged_quandl"
   ]
  },
  {
   "cell_type": "code",
   "execution_count": 105,
   "id": "560c6364",
   "metadata": {},
   "outputs": [
    {
     "name": "stdout",
     "output_type": "stream",
     "text": [
      "Intercept: -394.0069787366117\n",
      "Slope: [1.20314758]\n"
     ]
    }
   ],
   "source": [
    "# Plot the linear regression line and the close price\n",
    "df_2 = df_merged_quandl.copy()\n",
    "\n",
    "# Create a new column called 'Numbers' that ranges from 0 to the length of the data set\n",
    "df_2['Numbers'] = list(range (0, len(df_2)))\n",
    "\n",
    "# Store the 'Numbers' column into a variable called 'X' as an array\n",
    "X = np.array(df_2[['Numbers']])\n",
    "\n",
    "# Store the close price as an array in a variable called 'Y'\n",
    "y = df_2['S&P 500'].values\n",
    "\n",
    "# Create and train the model \n",
    "lin_model = LinearRegression().fit(X,y)\n",
    "print('Intercept:', lin_model.intercept_)\n",
    "print('Slope:', lin_model.coef_)"
   ]
  },
  {
   "cell_type": "code",
   "execution_count": 106,
   "id": "415243fb",
   "metadata": {},
   "outputs": [
    {
     "name": "stderr",
     "output_type": "stream",
     "text": [
      "C:\\Users\\rapha\\AppData\\Local\\Temp\\ipykernel_11176\\500798324.py:17: UserWarning:\n",
      "\n",
      "Matplotlib is currently using module://matplotlib_inline.backend_inline, which is a non-GUI backend, so cannot show the figure.\n",
      "\n"
     ]
    },
    {
     "data": {
      "image/png": "[encoded data removed]",
      "text/plain": [
       "<Figure size 432x288 with 1 Axes>"
      ]
     },
     "metadata": {},
     "output_type": "display_data"
    }
   ],
   "source": [
    "# Prepare the data for visualization \n",
    "# Get the predicted prcies from the model and store them into a variable called 'y_pred'\n",
    "\n",
    "y_pred = lin_model.coef_ * X + lin_model.intercept_ #y - mx + b\n",
    "\n",
    "# Store the predicted value in a new value called 'Pred'\n",
    "df_2['Pred'] = y_pred \n",
    "\n",
    "# Plot the data\n",
    "\n",
    "import plotly.express as px\n",
    "fig = plt.figure()\n",
    "plt.plot(df_2.index, df_2['S&P 500'])\n",
    "plt.plot(df_2.index, df_2['Pred'])\n",
    "plt.title(\"Close Price History\")\n",
    "\n",
    "fig.show();"
   ]
  },
  {
   "cell_type": "code",
   "execution_count": 107,
   "id": "76d4e3ae",
   "metadata": {},
   "outputs": [
    {
     "data": {
      "text/plain": [
       "0.552511653790886"
      ]
     },
     "execution_count": 107,
     "metadata": {},
     "output_type": "execute_result"
    }
   ],
   "source": [
    "# How good is the model ? \n",
    "\n",
    "r2_score(df_2['S&P 500'], df_2['Pred'])"
   ]
  },
  {
   "cell_type": "code",
   "execution_count": 108,
   "id": "737482ad",
   "metadata": {},
   "outputs": [
    {
     "data": {
      "text/plain": [
       "array([1800.33105884])"
      ]
     },
     "execution_count": 108,
     "metadata": {},
     "output_type": "execute_result"
    }
   ],
   "source": [
    "# Show the possbile price for the next day based on the model\n",
    "lin_model.coef_ * len(df_2) +1 + lin_model.intercept_\n",
    "\n",
    "# Price for tomorrow should be 1947..."
   ]
  },
  {
   "cell_type": "markdown",
   "id": "d3520cbd",
   "metadata": {},
   "source": [
    "### Predict the S&P500 - Linear Regression starting in 1980"
   ]
  },
  {
   "cell_type": "code",
   "execution_count": 109,
   "id": "67826779",
   "metadata": {},
   "outputs": [
    {
     "data": {
      "text/html": [
       "<div>\n",
       "<style scoped>\n",
       "    .dataframe tbody tr th:only-of-type {\n",
       "        vertical-align: middle;\n",
       "    }\n",
       "\n",
       "    .dataframe tbody tr th {\n",
       "        vertical-align: top;\n",
       "    }\n",
       "\n",
       "    .dataframe thead th {\n",
       "        text-align: right;\n",
       "    }\n",
       "</style>\n",
       "<table border=\"1\" class=\"dataframe\">\n",
       "  <thead>\n",
       "    <tr style=\"text-align: right;\">\n",
       "      <th></th>\n",
       "      <th>Date</th>\n",
       "      <th>S&amp;P 500</th>\n",
       "    </tr>\n",
       "  </thead>\n",
       "  <tbody>\n",
       "    <tr>\n",
       "      <th>1308</th>\n",
       "      <td>1980-01-01</td>\n",
       "      <td>423.08</td>\n",
       "    </tr>\n",
       "  </tbody>\n",
       "</table>\n",
       "</div>"
      ],
      "text/plain": [
       "            Date  S&P 500\n",
       "1308  1980-01-01   423.08"
      ]
     },
     "execution_count": 109,
     "metadata": {},
     "output_type": "execute_result"
    }
   ],
   "source": [
    "df_merged_quandl = pd.read_csv(r\".\\cleaned_data\\02. Quandl\\df_merged_quandl.csv\") # open the dataframe\n",
    "df_merged_quandl = pd.DataFrame(df_merged_quandl[['Date','S&P 500']])\n",
    "df_merged_quandl.loc[df_merged_quandl['Date'] == '1980-01-01']"
   ]
  },
  {
   "cell_type": "code",
   "execution_count": 110,
   "id": "a51d03c0",
   "metadata": {},
   "outputs": [
    {
     "data": {
      "text/html": [
       "<div>\n",
       "<style scoped>\n",
       "    .dataframe tbody tr th:only-of-type {\n",
       "        vertical-align: middle;\n",
       "    }\n",
       "\n",
       "    .dataframe tbody tr th {\n",
       "        vertical-align: top;\n",
       "    }\n",
       "\n",
       "    .dataframe thead th {\n",
       "        text-align: right;\n",
       "    }\n",
       "</style>\n",
       "<table border=\"1\" class=\"dataframe\">\n",
       "  <thead>\n",
       "    <tr style=\"text-align: right;\">\n",
       "      <th></th>\n",
       "      <th>Date</th>\n",
       "      <th>S&amp;P 500</th>\n",
       "    </tr>\n",
       "  </thead>\n",
       "  <tbody>\n",
       "    <tr>\n",
       "      <th>1308</th>\n",
       "      <td>1980-01-01</td>\n",
       "      <td>423.08</td>\n",
       "    </tr>\n",
       "    <tr>\n",
       "      <th>1309</th>\n",
       "      <td>1980-02-01</td>\n",
       "      <td>433.74</td>\n",
       "    </tr>\n",
       "    <tr>\n",
       "      <th>1310</th>\n",
       "      <td>1980-03-01</td>\n",
       "      <td>387.96</td>\n",
       "    </tr>\n",
       "    <tr>\n",
       "      <th>1311</th>\n",
       "      <td>1980-04-01</td>\n",
       "      <td>377.42</td>\n",
       "    </tr>\n",
       "    <tr>\n",
       "      <th>1312</th>\n",
       "      <td>1980-05-01</td>\n",
       "      <td>390.79</td>\n",
       "    </tr>\n",
       "    <tr>\n",
       "      <th>...</th>\n",
       "      <td>...</td>\n",
       "      <td>...</td>\n",
       "    </tr>\n",
       "    <tr>\n",
       "      <th>1818</th>\n",
       "      <td>2022-07-01</td>\n",
       "      <td>3918.75</td>\n",
       "    </tr>\n",
       "    <tr>\n",
       "      <th>1819</th>\n",
       "      <td>2022-08-01</td>\n",
       "      <td>4167.51</td>\n",
       "    </tr>\n",
       "    <tr>\n",
       "      <th>1820</th>\n",
       "      <td>2022-09-01</td>\n",
       "      <td>3850.52</td>\n",
       "    </tr>\n",
       "    <tr>\n",
       "      <th>1821</th>\n",
       "      <td>2022-10-01</td>\n",
       "      <td>3726.05</td>\n",
       "    </tr>\n",
       "    <tr>\n",
       "      <th>1822</th>\n",
       "      <td>2022-11-01</td>\n",
       "      <td>3856.10</td>\n",
       "    </tr>\n",
       "  </tbody>\n",
       "</table>\n",
       "<p>515 rows × 2 columns</p>\n",
       "</div>"
      ],
      "text/plain": [
       "            Date  S&P 500\n",
       "1308  1980-01-01   423.08\n",
       "1309  1980-02-01   433.74\n",
       "1310  1980-03-01   387.96\n",
       "1311  1980-04-01   377.42\n",
       "1312  1980-05-01   390.79\n",
       "...          ...      ...\n",
       "1818  2022-07-01  3918.75\n",
       "1819  2022-08-01  4167.51\n",
       "1820  2022-09-01  3850.52\n",
       "1821  2022-10-01  3726.05\n",
       "1822  2022-11-01  3856.10\n",
       "\n",
       "[515 rows x 2 columns]"
      ]
     },
     "execution_count": 110,
     "metadata": {},
     "output_type": "execute_result"
    }
   ],
   "source": [
    "df_merged_quandl = df_merged_quandl[1308:]\n",
    "df_merged_quandl"
   ]
  },
  {
   "cell_type": "code",
   "execution_count": 111,
   "id": "22476eca",
   "metadata": {},
   "outputs": [
    {
     "name": "stdout",
     "output_type": "stream",
     "text": [
      "Intercept: 84.73236170693167\n",
      "Slope: [6.2694005]\n"
     ]
    }
   ],
   "source": [
    "# Set the date as index\n",
    "df_merged_quandl = df_merged_quandl.set_index(pd.DatetimeIndex(df_merged_quandl['Date'].values))\n",
    "df_merged_quandl\n",
    "\n",
    "# Plot the linear regression line and the close price\n",
    "df_2 = df_merged_quandl.copy()\n",
    "\n",
    "# Create a new column called 'Numbers' that ranges from 0 to the length of the data set\n",
    "df_2['Numbers'] = list(range (0, len(df_2)))\n",
    "\n",
    "# Store the 'Numbers' column into a variable called 'X' as an array\n",
    "X = np.array(df_2[['Numbers']])\n",
    "\n",
    "# Store the close price as an array in a variable called 'Y'\n",
    "y = df_2['S&P 500'].values\n",
    "\n",
    "# Create and train the model \n",
    "lin_model = LinearRegression().fit(X,y)\n",
    "print('Intercept:', lin_model.intercept_)\n",
    "print('Slope:', lin_model.coef_)"
   ]
  },
  {
   "cell_type": "code",
   "execution_count": 112,
   "id": "d66a7fa3",
   "metadata": {},
   "outputs": [
    {
     "name": "stderr",
     "output_type": "stream",
     "text": [
      "C:\\Users\\rapha\\AppData\\Local\\Temp\\ipykernel_11176\\500798324.py:17: UserWarning:\n",
      "\n",
      "Matplotlib is currently using module://matplotlib_inline.backend_inline, which is a non-GUI backend, so cannot show the figure.\n",
      "\n"
     ]
    },
    {
     "data": {
      "image/png": "[encoded data removed]",
      "text/plain": [
       "<Figure size 432x288 with 1 Axes>"
      ]
     },
     "metadata": {},
     "output_type": "display_data"
    }
   ],
   "source": [
    "# Prepare the data for visualization \n",
    "# Get the predicted prcies from the model and store them into a variable called 'y_pred'\n",
    "\n",
    "y_pred = lin_model.coef_ * X + lin_model.intercept_ #y - mx + b\n",
    "\n",
    "# Store the predicted value in a new value called 'Pred'\n",
    "df_2['Pred'] = y_pred \n",
    "\n",
    "# Plot the data\n",
    "\n",
    "import plotly.express as px\n",
    "fig = plt.figure()\n",
    "plt.plot(df_2.index, df_2['S&P 500'])\n",
    "plt.plot(df_2.index, df_2['Pred'])\n",
    "plt.title(\"Close Price History\")\n",
    "\n",
    "fig.show();"
   ]
  },
  {
   "cell_type": "code",
   "execution_count": 113,
   "id": "5960a9e4",
   "metadata": {},
   "outputs": [
    {
     "data": {
      "text/plain": [
       "0.7920748460606075"
      ]
     },
     "execution_count": 113,
     "metadata": {},
     "output_type": "execute_result"
    }
   ],
   "source": [
    "# How good is the model ? \n",
    "\n",
    "r2_score(df_2['S&P 500'], df_2['Pred'])"
   ]
  },
  {
   "cell_type": "code",
   "execution_count": 114,
   "id": "4ade37eb",
   "metadata": {},
   "outputs": [
    {
     "data": {
      "text/plain": [
       "array([3314.47362132])"
      ]
     },
     "execution_count": 114,
     "metadata": {},
     "output_type": "execute_result"
    }
   ],
   "source": [
    "# Show the possbile price for the next day based on the model\n",
    "lin_model.coef_ * len(df_2) +1 + lin_model.intercept_\n",
    "\n",
    "# price for tomorrow should be 3569..."
   ]
  },
  {
   "cell_type": "markdown",
   "id": "9e2e10a4",
   "metadata": {},
   "source": [
    "### Predict the S&P500 - Linear Regression starting in 2000"
   ]
  },
  {
   "cell_type": "code",
   "execution_count": 115,
   "id": "125c4c05",
   "metadata": {},
   "outputs": [
    {
     "data": {
      "text/html": [
       "<div>\n",
       "<style scoped>\n",
       "    .dataframe tbody tr th:only-of-type {\n",
       "        vertical-align: middle;\n",
       "    }\n",
       "\n",
       "    .dataframe tbody tr th {\n",
       "        vertical-align: top;\n",
       "    }\n",
       "\n",
       "    .dataframe thead th {\n",
       "        text-align: right;\n",
       "    }\n",
       "</style>\n",
       "<table border=\"1\" class=\"dataframe\">\n",
       "  <thead>\n",
       "    <tr style=\"text-align: right;\">\n",
       "      <th></th>\n",
       "      <th>Date</th>\n",
       "      <th>S&amp;P 500</th>\n",
       "    </tr>\n",
       "  </thead>\n",
       "  <tbody>\n",
       "    <tr>\n",
       "      <th>1548</th>\n",
       "      <td>2000-01-01</td>\n",
       "      <td>2506.67</td>\n",
       "    </tr>\n",
       "  </tbody>\n",
       "</table>\n",
       "</div>"
      ],
      "text/plain": [
       "            Date  S&P 500\n",
       "1548  2000-01-01  2506.67"
      ]
     },
     "execution_count": 115,
     "metadata": {},
     "output_type": "execute_result"
    }
   ],
   "source": [
    "df_merged_quandl = pd.read_csv(r\".\\cleaned_data\\02. Quandl\\df_merged_quandl.csv\") # open the dataframe\n",
    "df_merged_quandl = pd.DataFrame(df_merged_quandl[['Date','S&P 500']])\n",
    "df_merged_quandl.loc[df_merged_quandl['Date'] == '2000-01-01']"
   ]
  },
  {
   "cell_type": "code",
   "execution_count": 116,
   "id": "2809ab8b",
   "metadata": {},
   "outputs": [
    {
     "data": {
      "text/html": [
       "<div>\n",
       "<style scoped>\n",
       "    .dataframe tbody tr th:only-of-type {\n",
       "        vertical-align: middle;\n",
       "    }\n",
       "\n",
       "    .dataframe tbody tr th {\n",
       "        vertical-align: top;\n",
       "    }\n",
       "\n",
       "    .dataframe thead th {\n",
       "        text-align: right;\n",
       "    }\n",
       "</style>\n",
       "<table border=\"1\" class=\"dataframe\">\n",
       "  <thead>\n",
       "    <tr style=\"text-align: right;\">\n",
       "      <th></th>\n",
       "      <th>Date</th>\n",
       "      <th>S&amp;P 500</th>\n",
       "    </tr>\n",
       "  </thead>\n",
       "  <tbody>\n",
       "    <tr>\n",
       "      <th>1548</th>\n",
       "      <td>2000-01-01</td>\n",
       "      <td>2506.67</td>\n",
       "    </tr>\n",
       "    <tr>\n",
       "      <th>1549</th>\n",
       "      <td>2000-02-01</td>\n",
       "      <td>2427.73</td>\n",
       "    </tr>\n",
       "    <tr>\n",
       "      <th>1550</th>\n",
       "      <td>2000-03-01</td>\n",
       "      <td>2500.35</td>\n",
       "    </tr>\n",
       "    <tr>\n",
       "      <th>1551</th>\n",
       "      <td>2000-04-01</td>\n",
       "      <td>2532.07</td>\n",
       "    </tr>\n",
       "    <tr>\n",
       "      <th>1552</th>\n",
       "      <td>2000-05-01</td>\n",
       "      <td>2454.91</td>\n",
       "    </tr>\n",
       "    <tr>\n",
       "      <th>...</th>\n",
       "      <td>...</td>\n",
       "      <td>...</td>\n",
       "    </tr>\n",
       "    <tr>\n",
       "      <th>1818</th>\n",
       "      <td>2022-07-01</td>\n",
       "      <td>3918.75</td>\n",
       "    </tr>\n",
       "    <tr>\n",
       "      <th>1819</th>\n",
       "      <td>2022-08-01</td>\n",
       "      <td>4167.51</td>\n",
       "    </tr>\n",
       "    <tr>\n",
       "      <th>1820</th>\n",
       "      <td>2022-09-01</td>\n",
       "      <td>3850.52</td>\n",
       "    </tr>\n",
       "    <tr>\n",
       "      <th>1821</th>\n",
       "      <td>2022-10-01</td>\n",
       "      <td>3726.05</td>\n",
       "    </tr>\n",
       "    <tr>\n",
       "      <th>1822</th>\n",
       "      <td>2022-11-01</td>\n",
       "      <td>3856.10</td>\n",
       "    </tr>\n",
       "  </tbody>\n",
       "</table>\n",
       "<p>275 rows × 2 columns</p>\n",
       "</div>"
      ],
      "text/plain": [
       "            Date  S&P 500\n",
       "1548  2000-01-01  2506.67\n",
       "1549  2000-02-01  2427.73\n",
       "1550  2000-03-01  2500.35\n",
       "1551  2000-04-01  2532.07\n",
       "1552  2000-05-01  2454.91\n",
       "...          ...      ...\n",
       "1818  2022-07-01  3918.75\n",
       "1819  2022-08-01  4167.51\n",
       "1820  2022-09-01  3850.52\n",
       "1821  2022-10-01  3726.05\n",
       "1822  2022-11-01  3856.10\n",
       "\n",
       "[275 rows x 2 columns]"
      ]
     },
     "execution_count": 116,
     "metadata": {},
     "output_type": "execute_result"
    }
   ],
   "source": [
    "df_merged_quandl = df_merged_quandl[1548:]\n",
    "df_merged_quandl"
   ]
  },
  {
   "cell_type": "code",
   "execution_count": 117,
   "id": "97c1543c",
   "metadata": {},
   "outputs": [
    {
     "name": "stdout",
     "output_type": "stream",
     "text": [
      "Intercept: 1217.8479343873514\n",
      "Slope: [8.53607639]\n"
     ]
    }
   ],
   "source": [
    "#Set the date as index\n",
    "df_merged_quandl = df_merged_quandl.set_index(pd.DatetimeIndex(df_merged_quandl['Date'].values))\n",
    "df_merged_quandl\n",
    "\n",
    "# Plot the linear regression line and the close price\n",
    "df_2 = df_merged_quandl.copy()\n",
    "\n",
    "#Create a new column called 'Numbers' that ranges from 0 to the length of the data set\n",
    "df_2['Numbers'] = list(range (0, len(df_2)))\n",
    "\n",
    "#Store the 'Numbers' column into a variable called 'X' as an array\n",
    "X = np.array(df_2[['Numbers']])\n",
    "\n",
    "#Store the close price as an array in a variable called 'Y'\n",
    "y = df_2['S&P 500'].values\n",
    "\n",
    "#Create and train the model \n",
    "lin_model = LinearRegression().fit(X,y)\n",
    "print('Intercept:', lin_model.intercept_)\n",
    "print('Slope:', lin_model.coef_)"
   ]
  },
  {
   "cell_type": "code",
   "execution_count": 118,
   "id": "47fea2cf",
   "metadata": {},
   "outputs": [
    {
     "name": "stderr",
     "output_type": "stream",
     "text": [
      "C:\\Users\\rapha\\AppData\\Local\\Temp\\ipykernel_11176\\2145224698.py:18: UserWarning:\n",
      "\n",
      "Matplotlib is currently using module://matplotlib_inline.backend_inline, which is a non-GUI backend, so cannot show the figure.\n",
      "\n"
     ]
    },
    {
     "data": {
      "image/png": "[encoded data removed]",
      "text/plain": [
       "<Figure size 432x288 with 1 Axes>"
      ]
     },
     "metadata": {},
     "output_type": "display_data"
    }
   ],
   "source": [
    "#Prepare the data for visualization \n",
    "# Get the predicted prcies from the model and store them into a variable called 'y_pred'\n",
    "\n",
    "#y_pred = lin_model.coef_ * X + lin_model.intercept_ #y - mx + b\n",
    "\n",
    "y_pred_2 = lin_model.predict(X)\n",
    "\n",
    "#Store the predicted value in a new value called 'Pred'\n",
    "df_2['Pred_2'] = y_pred_2\n",
    "\n",
    "#Plot the data\n",
    "\n",
    "import plotly.express as px\n",
    "fig = plt.figure()\n",
    "plt.plot(df_2.index, df_2['S&P 500'])\n",
    "plt.plot(df_2.index, df_2['Pred_2'])\n",
    "plt.title(\"Close Price History\")\n",
    "fig.show();"
   ]
  },
  {
   "cell_type": "code",
   "execution_count": 92,
   "id": "3154183d",
   "metadata": {},
   "outputs": [
    {
     "data": {
      "text/plain": [
       "0.6638045430809688"
      ]
     },
     "execution_count": 92,
     "metadata": {},
     "output_type": "execute_result"
    }
   ],
   "source": [
    "#How good is the model ? \n",
    "\n",
    "r2_score(df_2['S&P 500'], df_2['Pred'])"
   ]
  },
  {
   "cell_type": "code",
   "execution_count": 93,
   "id": "ed182cb7",
   "metadata": {},
   "outputs": [
    {
     "data": {
      "text/plain": [
       "array([3865.77875822])"
      ]
     },
     "execution_count": 93,
     "metadata": {},
     "output_type": "execute_result"
    }
   ],
   "source": [
    "# Show the possbile price for the next day based on the model\n",
    "lin_model.coef_ * len(df_2) +1 + lin_model.intercept_\n",
    "\n",
    "# price for tomorrow should be 3569..."
   ]
  }
 ],
 "metadata": {
  "kernelspec": {
   "display_name": "spacy",
   "language": "python",
   "name": "spacy"
  },
  "language_info": {
   "codemirror_mode": {
    "name": "ipython",
    "version": 3
   },
   "file_extension": ".py",
   "mimetype": "text/x-python",
   "name": "python",
   "nbconvert_exporter": "python",
   "pygments_lexer": "ipython3",
   "version": "3.10.4"
  }
 },
 "nbformat": 4,
 "nbformat_minor": 5
}
