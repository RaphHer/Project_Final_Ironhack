{
 "cells": [
  {
   "cell_type": "code",
   "execution_count": 10,
   "id": "fe00de5b",
   "metadata": {},
   "outputs": [],
   "source": [
    "import pandas as pd\n",
    "import numpy as np\n",
    "import seaborn as sn\n",
    "import matplotlib.pyplot as plt\n",
    "from sklearn.linear_model import LinearRegression\n",
    "from sklearn.metrics import r2_score\n",
    "plt.style.use('fivethirtyeight')"
   ]
  },
  {
   "cell_type": "markdown",
   "id": "e608eccd",
   "metadata": {},
   "source": [
    "### Predict the S&P500 - Linear Regression"
   ]
  },
  {
   "cell_type": "code",
   "execution_count": 73,
   "id": "3ef4fd2a",
   "metadata": {},
   "outputs": [
    {
     "data": {
      "text/html": [
       "<div>\n",
       "<style scoped>\n",
       "    .dataframe tbody tr th:only-of-type {\n",
       "        vertical-align: middle;\n",
       "    }\n",
       "\n",
       "    .dataframe tbody tr th {\n",
       "        vertical-align: top;\n",
       "    }\n",
       "\n",
       "    .dataframe thead th {\n",
       "        text-align: right;\n",
       "    }\n",
       "</style>\n",
       "<table border=\"1\" class=\"dataframe\">\n",
       "  <thead>\n",
       "    <tr style=\"text-align: right;\">\n",
       "      <th></th>\n",
       "      <th>Date</th>\n",
       "      <th>S&amp;P 500</th>\n",
       "    </tr>\n",
       "  </thead>\n",
       "  <tbody>\n",
       "    <tr>\n",
       "      <th>1871-01-01</th>\n",
       "      <td>1871-01-01</td>\n",
       "      <td>105.76</td>\n",
       "    </tr>\n",
       "    <tr>\n",
       "      <th>1871-02-01</th>\n",
       "      <td>1871-02-01</td>\n",
       "      <td>104.02</td>\n",
       "    </tr>\n",
       "    <tr>\n",
       "      <th>1871-03-01</th>\n",
       "      <td>1871-03-01</td>\n",
       "      <td>105.01</td>\n",
       "    </tr>\n",
       "    <tr>\n",
       "      <th>1871-04-01</th>\n",
       "      <td>1871-04-01</td>\n",
       "      <td>112.01</td>\n",
       "    </tr>\n",
       "    <tr>\n",
       "      <th>1871-05-01</th>\n",
       "      <td>1871-05-01</td>\n",
       "      <td>117.56</td>\n",
       "    </tr>\n",
       "    <tr>\n",
       "      <th>...</th>\n",
       "      <td>...</td>\n",
       "      <td>...</td>\n",
       "    </tr>\n",
       "    <tr>\n",
       "      <th>2022-09-01</th>\n",
       "      <td>2022-09-01</td>\n",
       "      <td>3850.52</td>\n",
       "    </tr>\n",
       "    <tr>\n",
       "      <th>2022-09-01</th>\n",
       "      <td>2022-09-01</td>\n",
       "      <td>3585.62</td>\n",
       "    </tr>\n",
       "    <tr>\n",
       "      <th>2022-10-01</th>\n",
       "      <td>2022-10-01</td>\n",
       "      <td>3726.05</td>\n",
       "    </tr>\n",
       "    <tr>\n",
       "      <th>2022-10-01</th>\n",
       "      <td>2022-10-01</td>\n",
       "      <td>3871.98</td>\n",
       "    </tr>\n",
       "    <tr>\n",
       "      <th>2022-11-01</th>\n",
       "      <td>2022-11-01</td>\n",
       "      <td>3856.10</td>\n",
       "    </tr>\n",
       "  </tbody>\n",
       "</table>\n",
       "<p>1850 rows × 2 columns</p>\n",
       "</div>"
      ],
      "text/plain": [
       "                 Date  S&P 500\n",
       "1871-01-01 1871-01-01   105.76\n",
       "1871-02-01 1871-02-01   104.02\n",
       "1871-03-01 1871-03-01   105.01\n",
       "1871-04-01 1871-04-01   112.01\n",
       "1871-05-01 1871-05-01   117.56\n",
       "...               ...      ...\n",
       "2022-09-01 2022-09-01  3850.52\n",
       "2022-09-01 2022-09-01  3585.62\n",
       "2022-10-01 2022-10-01  3726.05\n",
       "2022-10-01 2022-10-01  3871.98\n",
       "2022-11-01 2022-11-01  3856.10\n",
       "\n",
       "[1850 rows x 2 columns]"
      ]
     },
     "execution_count": 73,
     "metadata": {},
     "output_type": "execute_result"
    }
   ],
   "source": [
    "# Load the data \n",
    "df_merged_quandl = pd.read_csv(r\".\\cleaned_data\\02. Quandl\\df_merged_quandl.csv\") # open the dataframe\n",
    "df_merged_quandl = pd.DataFrame(df_merged_quandl[['Date','S&P 500']])\n",
    "df_merged_quandl['Date'] = pd.to_datetime(df_merged_quandl['Date']) # putting back the day so we have beginning of the month everywhere\n",
    "\n",
    "#Set the date as index\n",
    "df_merged_quandl = df_merged_quandl.set_index(pd.DatetimeIndex(df_merged_quandl['Date'].values))\n",
    "df_merged_quandl"
   ]
  },
  {
   "cell_type": "code",
   "execution_count": 42,
   "id": "3af5e89f",
   "metadata": {},
   "outputs": [
    {
     "name": "stdout",
     "output_type": "stream",
     "text": [
      "Intercept: -451.2762337202678\n",
      "Slope: [1.29634017]\n"
     ]
    }
   ],
   "source": [
    "# Plot the linear regression line and the close price\n",
    "df_2 = df_merged_quandl.copy()\n",
    "\n",
    "#Create a new column called 'Numbers' that ranges from 0 to the length of the data set\n",
    "df_2['Numbers'] = list(range (0, len(df_2)))\n",
    "\n",
    "#Store the 'Numbers' column into a variable called 'X' as an array\n",
    "X = np.array(df_2[['Numbers']])\n",
    "\n",
    "#Store the close price as an array in a variable called 'Y'\n",
    "y = df_2['S&P 500'].values\n",
    "\n",
    "#Create and train the model \n",
    "lin_model = LinearRegression().fit(X,y)\n",
    "print('Intercept:', lin_model.intercept_)\n",
    "print('Slope:', lin_model.coef_)"
   ]
  },
  {
   "cell_type": "code",
   "execution_count": 69,
   "id": "b28f4490",
   "metadata": {},
   "outputs": [
    {
     "name": "stderr",
     "output_type": "stream",
     "text": [
      "C:\\Users\\rapha\\AppData\\Local\\Temp\\ipykernel_11176\\1284024183.py:17: UserWarning:\n",
      "\n",
      "Matplotlib is currently using module://matplotlib_inline.backend_inline, which is a non-GUI backend, so cannot show the figure.\n",
      "\n"
     ]
    },
    {
     "data": {
      "image/png": "[encoded data removed]",
      "text/plain": [
       "<Figure size 432x288 with 1 Axes>"
      ]
     },
     "metadata": {
      "needs_background": "light"
     },
     "output_type": "display_data"
    }
   ],
   "source": [
    "#Prepare the data for visualization \n",
    "# Get the predicted prcies from the model and store them into a variable called 'y_pred'\n",
    "\n",
    "y_pred = lin_model.coef_ * X + lin_model.intercept_ #y - mx + b\n",
    "\n",
    "#Store the predicted value in a new value called 'Pred'\n",
    "df_2['Pred'] = y_pred \n",
    "\n",
    "#Plot the data\n",
    "\n",
    "import plotly.express as px\n",
    "fig = plt.figure()\n",
    "plt.plot(df_2.index, df_2['S&P 500'])\n",
    "plt.plot(df_2.index, df_2['Pred'])\n",
    "plt.title(\"Close Price History\")\n",
    "\n",
    "fig.show();"
   ]
  },
  {
   "cell_type": "code",
   "execution_count": 71,
   "id": "afb42d15",
   "metadata": {},
   "outputs": [
    {
     "data": {
      "text/plain": [
       "0.5588844098310495"
      ]
     },
     "execution_count": 71,
     "metadata": {},
     "output_type": "execute_result"
    }
   ],
   "source": [
    "#How good is the model ? \n",
    "\n",
    "r2_score(df_2['S&P 500'], df_2['Pred'])"
   ]
  },
  {
   "cell_type": "code",
   "execution_count": 72,
   "id": "30849041",
   "metadata": {},
   "outputs": [
    {
     "data": {
      "text/plain": [
       "array([1947.953082])"
      ]
     },
     "execution_count": 72,
     "metadata": {},
     "output_type": "execute_result"
    }
   ],
   "source": [
    "# Show the possbile price for the next day based on the model\n",
    "lin_model.coef_ * len(df_2) +1 + lin_model.intercept_\n",
    "\n",
    "# price for tomorrow should be 1947..."
   ]
  },
  {
   "cell_type": "markdown",
   "id": "93765d1d",
   "metadata": {},
   "source": [
    "### Predict the S&P500 - Linear Regression starting in 1980"
   ]
  },
  {
   "cell_type": "code",
   "execution_count": 81,
   "id": "d79ccbb6",
   "metadata": {},
   "outputs": [
    {
     "data": {
      "text/html": [
       "<div>\n",
       "<style scoped>\n",
       "    .dataframe tbody tr th:only-of-type {\n",
       "        vertical-align: middle;\n",
       "    }\n",
       "\n",
       "    .dataframe tbody tr th {\n",
       "        vertical-align: top;\n",
       "    }\n",
       "\n",
       "    .dataframe thead th {\n",
       "        text-align: right;\n",
       "    }\n",
       "</style>\n",
       "<table border=\"1\" class=\"dataframe\">\n",
       "  <thead>\n",
       "    <tr style=\"text-align: right;\">\n",
       "      <th></th>\n",
       "      <th>Date</th>\n",
       "      <th>S&amp;P 500</th>\n",
       "    </tr>\n",
       "  </thead>\n",
       "  <tbody>\n",
       "    <tr>\n",
       "      <th>1308</th>\n",
       "      <td>1980-01-01</td>\n",
       "      <td>423.08</td>\n",
       "    </tr>\n",
       "  </tbody>\n",
       "</table>\n",
       "</div>"
      ],
      "text/plain": [
       "            Date  S&P 500\n",
       "1308  1980-01-01   423.08"
      ]
     },
     "execution_count": 81,
     "metadata": {},
     "output_type": "execute_result"
    }
   ],
   "source": [
    "df_merged_quandl = pd.read_csv(r\".\\cleaned_data\\02. Quandl\\df_merged_quandl.csv\") # open the dataframe\n",
    "df_merged_quandl = pd.DataFrame(df_merged_quandl[['Date','S&P 500']])\n",
    "df_merged_quandl.loc[df_merged_quandl['Date'] == '1980-01-01']"
   ]
  },
  {
   "cell_type": "code",
   "execution_count": 82,
   "id": "d5d28d16",
   "metadata": {},
   "outputs": [
    {
     "data": {
      "text/html": [
       "<div>\n",
       "<style scoped>\n",
       "    .dataframe tbody tr th:only-of-type {\n",
       "        vertical-align: middle;\n",
       "    }\n",
       "\n",
       "    .dataframe tbody tr th {\n",
       "        vertical-align: top;\n",
       "    }\n",
       "\n",
       "    .dataframe thead th {\n",
       "        text-align: right;\n",
       "    }\n",
       "</style>\n",
       "<table border=\"1\" class=\"dataframe\">\n",
       "  <thead>\n",
       "    <tr style=\"text-align: right;\">\n",
       "      <th></th>\n",
       "      <th>Date</th>\n",
       "      <th>S&amp;P 500</th>\n",
       "    </tr>\n",
       "  </thead>\n",
       "  <tbody>\n",
       "    <tr>\n",
       "      <th>1308</th>\n",
       "      <td>1980-01-01</td>\n",
       "      <td>423.08</td>\n",
       "    </tr>\n",
       "    <tr>\n",
       "      <th>1309</th>\n",
       "      <td>1980-02-01</td>\n",
       "      <td>433.74</td>\n",
       "    </tr>\n",
       "    <tr>\n",
       "      <th>1310</th>\n",
       "      <td>1980-03-01</td>\n",
       "      <td>387.96</td>\n",
       "    </tr>\n",
       "    <tr>\n",
       "      <th>1311</th>\n",
       "      <td>1980-04-01</td>\n",
       "      <td>377.42</td>\n",
       "    </tr>\n",
       "    <tr>\n",
       "      <th>1312</th>\n",
       "      <td>1980-05-01</td>\n",
       "      <td>390.79</td>\n",
       "    </tr>\n",
       "    <tr>\n",
       "      <th>...</th>\n",
       "      <td>...</td>\n",
       "      <td>...</td>\n",
       "    </tr>\n",
       "    <tr>\n",
       "      <th>1845</th>\n",
       "      <td>2022-09-01</td>\n",
       "      <td>3850.52</td>\n",
       "    </tr>\n",
       "    <tr>\n",
       "      <th>1846</th>\n",
       "      <td>2022-09-01</td>\n",
       "      <td>3585.62</td>\n",
       "    </tr>\n",
       "    <tr>\n",
       "      <th>1847</th>\n",
       "      <td>2022-10-01</td>\n",
       "      <td>3726.05</td>\n",
       "    </tr>\n",
       "    <tr>\n",
       "      <th>1848</th>\n",
       "      <td>2022-10-01</td>\n",
       "      <td>3871.98</td>\n",
       "    </tr>\n",
       "    <tr>\n",
       "      <th>1849</th>\n",
       "      <td>2022-11-01</td>\n",
       "      <td>3856.10</td>\n",
       "    </tr>\n",
       "  </tbody>\n",
       "</table>\n",
       "<p>542 rows × 2 columns</p>\n",
       "</div>"
      ],
      "text/plain": [
       "            Date  S&P 500\n",
       "1308  1980-01-01   423.08\n",
       "1309  1980-02-01   433.74\n",
       "1310  1980-03-01   387.96\n",
       "1311  1980-04-01   377.42\n",
       "1312  1980-05-01   390.79\n",
       "...          ...      ...\n",
       "1845  2022-09-01  3850.52\n",
       "1846  2022-09-01  3585.62\n",
       "1847  2022-10-01  3726.05\n",
       "1848  2022-10-01  3871.98\n",
       "1849  2022-11-01  3856.10\n",
       "\n",
       "[542 rows x 2 columns]"
      ]
     },
     "execution_count": 82,
     "metadata": {},
     "output_type": "execute_result"
    }
   ],
   "source": [
    "df_merged_quandl = df_merged_quandl[1308:]\n",
    "df_merged_quandl"
   ]
  },
  {
   "cell_type": "code",
   "execution_count": 83,
   "id": "aca5293f",
   "metadata": {},
   "outputs": [
    {
     "name": "stdout",
     "output_type": "stream",
     "text": [
      "Intercept: 38.82163319809956\n",
      "Slope: [6.51266334]\n"
     ]
    }
   ],
   "source": [
    "#Set the date as index\n",
    "df_merged_quandl = df_merged_quandl.set_index(pd.DatetimeIndex(df_merged_quandl['Date'].values))\n",
    "df_merged_quandl\n",
    "\n",
    "# Plot the linear regression line and the close price\n",
    "df_2 = df_merged_quandl.copy()\n",
    "\n",
    "#Create a new column called 'Numbers' that ranges from 0 to the length of the data set\n",
    "df_2['Numbers'] = list(range (0, len(df_2)))\n",
    "\n",
    "#Store the 'Numbers' column into a variable called 'X' as an array\n",
    "X = np.array(df_2[['Numbers']])\n",
    "\n",
    "#Store the close price as an array in a variable called 'Y'\n",
    "y = df_2['S&P 500'].values\n",
    "\n",
    "#Create and train the model \n",
    "lin_model = LinearRegression().fit(X,y)\n",
    "print('Intercept:', lin_model.intercept_)\n",
    "print('Slope:', lin_model.coef_)"
   ]
  },
  {
   "cell_type": "code",
   "execution_count": 84,
   "id": "6ea1ebe5",
   "metadata": {},
   "outputs": [
    {
     "name": "stderr",
     "output_type": "stream",
     "text": [
      "C:\\Users\\rapha\\AppData\\Local\\Temp\\ipykernel_11176\\1284024183.py:17: UserWarning:\n",
      "\n",
      "Matplotlib is currently using module://matplotlib_inline.backend_inline, which is a non-GUI backend, so cannot show the figure.\n",
      "\n"
     ]
    },
    {
     "data": {
      "image/png": "[encoded data removed]",
      "text/plain": [
       "<Figure size 432x288 with 1 Axes>"
      ]
     },
     "metadata": {
      "needs_background": "light"
     },
     "output_type": "display_data"
    }
   ],
   "source": [
    "#Prepare the data for visualization \n",
    "# Get the predicted prcies from the model and store them into a variable called 'y_pred'\n",
    "\n",
    "y_pred = lin_model.coef_ * X + lin_model.intercept_ #y - mx + b\n",
    "\n",
    "#Store the predicted value in a new value called 'Pred'\n",
    "df_2['Pred'] = y_pred \n",
    "\n",
    "#Plot the data\n",
    "\n",
    "import plotly.express as px\n",
    "fig = plt.figure()\n",
    "plt.plot(df_2.index, df_2['S&P 500'])\n",
    "plt.plot(df_2.index, df_2['Pred'])\n",
    "plt.title(\"Close Price History\")\n",
    "\n",
    "fig.show();"
   ]
  },
  {
   "cell_type": "code",
   "execution_count": 85,
   "id": "683837a9",
   "metadata": {},
   "outputs": [
    {
     "data": {
      "text/plain": [
       "0.8189492352272962"
      ]
     },
     "execution_count": 85,
     "metadata": {},
     "output_type": "execute_result"
    }
   ],
   "source": [
    "#How good is the model ? \n",
    "\n",
    "r2_score(df_2['S&P 500'], df_2['Pred'])"
   ]
  },
  {
   "cell_type": "code",
   "execution_count": 86,
   "id": "bb08dee6",
   "metadata": {},
   "outputs": [
    {
     "data": {
      "text/plain": [
       "array([3569.68516298])"
      ]
     },
     "execution_count": 86,
     "metadata": {},
     "output_type": "execute_result"
    }
   ],
   "source": [
    "# Show the possbile price for the next day based on the model\n",
    "lin_model.coef_ * len(df_2) +1 + lin_model.intercept_\n",
    "\n",
    "# price for tomorrow should be 3569..."
   ]
  },
  {
   "cell_type": "markdown",
   "id": "77174e83",
   "metadata": {},
   "source": [
    "### Predict the S&P500 - Linear Regression starting in 2000"
   ]
  },
  {
   "cell_type": "code",
   "execution_count": 88,
   "id": "ec1647bb",
   "metadata": {},
   "outputs": [
    {
     "data": {
      "text/html": [
       "<div>\n",
       "<style scoped>\n",
       "    .dataframe tbody tr th:only-of-type {\n",
       "        vertical-align: middle;\n",
       "    }\n",
       "\n",
       "    .dataframe tbody tr th {\n",
       "        vertical-align: top;\n",
       "    }\n",
       "\n",
       "    .dataframe thead th {\n",
       "        text-align: right;\n",
       "    }\n",
       "</style>\n",
       "<table border=\"1\" class=\"dataframe\">\n",
       "  <thead>\n",
       "    <tr style=\"text-align: right;\">\n",
       "      <th></th>\n",
       "      <th>Date</th>\n",
       "      <th>S&amp;P 500</th>\n",
       "    </tr>\n",
       "  </thead>\n",
       "  <tbody>\n",
       "    <tr>\n",
       "      <th>1548</th>\n",
       "      <td>2000-01-01</td>\n",
       "      <td>2506.67</td>\n",
       "    </tr>\n",
       "  </tbody>\n",
       "</table>\n",
       "</div>"
      ],
      "text/plain": [
       "            Date  S&P 500\n",
       "1548  2000-01-01  2506.67"
      ]
     },
     "execution_count": 88,
     "metadata": {},
     "output_type": "execute_result"
    }
   ],
   "source": [
    "df_merged_quandl = pd.read_csv(r\".\\cleaned_data\\02. Quandl\\df_merged_quandl.csv\") # open the dataframe\n",
    "df_merged_quandl = pd.DataFrame(df_merged_quandl[['Date','S&P 500']])\n",
    "df_merged_quandl.loc[df_merged_quandl['Date'] == '2000-01-01']"
   ]
  },
  {
   "cell_type": "code",
   "execution_count": 89,
   "id": "6fc0542a",
   "metadata": {},
   "outputs": [
    {
     "data": {
      "text/html": [
       "<div>\n",
       "<style scoped>\n",
       "    .dataframe tbody tr th:only-of-type {\n",
       "        vertical-align: middle;\n",
       "    }\n",
       "\n",
       "    .dataframe tbody tr th {\n",
       "        vertical-align: top;\n",
       "    }\n",
       "\n",
       "    .dataframe thead th {\n",
       "        text-align: right;\n",
       "    }\n",
       "</style>\n",
       "<table border=\"1\" class=\"dataframe\">\n",
       "  <thead>\n",
       "    <tr style=\"text-align: right;\">\n",
       "      <th></th>\n",
       "      <th>Date</th>\n",
       "      <th>S&amp;P 500</th>\n",
       "    </tr>\n",
       "  </thead>\n",
       "  <tbody>\n",
       "    <tr>\n",
       "      <th>1548</th>\n",
       "      <td>2000-01-01</td>\n",
       "      <td>2506.67</td>\n",
       "    </tr>\n",
       "    <tr>\n",
       "      <th>1549</th>\n",
       "      <td>2000-02-01</td>\n",
       "      <td>2427.73</td>\n",
       "    </tr>\n",
       "    <tr>\n",
       "      <th>1550</th>\n",
       "      <td>2000-03-01</td>\n",
       "      <td>2500.35</td>\n",
       "    </tr>\n",
       "    <tr>\n",
       "      <th>1551</th>\n",
       "      <td>2000-04-01</td>\n",
       "      <td>2532.07</td>\n",
       "    </tr>\n",
       "    <tr>\n",
       "      <th>1552</th>\n",
       "      <td>2000-05-01</td>\n",
       "      <td>2454.91</td>\n",
       "    </tr>\n",
       "    <tr>\n",
       "      <th>...</th>\n",
       "      <td>...</td>\n",
       "      <td>...</td>\n",
       "    </tr>\n",
       "    <tr>\n",
       "      <th>1845</th>\n",
       "      <td>2022-09-01</td>\n",
       "      <td>3850.52</td>\n",
       "    </tr>\n",
       "    <tr>\n",
       "      <th>1846</th>\n",
       "      <td>2022-09-01</td>\n",
       "      <td>3585.62</td>\n",
       "    </tr>\n",
       "    <tr>\n",
       "      <th>1847</th>\n",
       "      <td>2022-10-01</td>\n",
       "      <td>3726.05</td>\n",
       "    </tr>\n",
       "    <tr>\n",
       "      <th>1848</th>\n",
       "      <td>2022-10-01</td>\n",
       "      <td>3871.98</td>\n",
       "    </tr>\n",
       "    <tr>\n",
       "      <th>1849</th>\n",
       "      <td>2022-11-01</td>\n",
       "      <td>3856.10</td>\n",
       "    </tr>\n",
       "  </tbody>\n",
       "</table>\n",
       "<p>302 rows × 2 columns</p>\n",
       "</div>"
      ],
      "text/plain": [
       "            Date  S&P 500\n",
       "1548  2000-01-01  2506.67\n",
       "1549  2000-02-01  2427.73\n",
       "1550  2000-03-01  2500.35\n",
       "1551  2000-04-01  2532.07\n",
       "1552  2000-05-01  2454.91\n",
       "...          ...      ...\n",
       "1845  2022-09-01  3850.52\n",
       "1846  2022-09-01  3585.62\n",
       "1847  2022-10-01  3726.05\n",
       "1848  2022-10-01  3871.98\n",
       "1849  2022-11-01  3856.10\n",
       "\n",
       "[302 rows x 2 columns]"
      ]
     },
     "execution_count": 89,
     "metadata": {},
     "output_type": "execute_result"
    }
   ],
   "source": [
    "df_merged_quandl = df_merged_quandl[1548:]\n",
    "df_merged_quandl"
   ]
  },
  {
   "cell_type": "code",
   "execution_count": 90,
   "id": "6b54b796",
   "metadata": {},
   "outputs": [
    {
     "name": "stdout",
     "output_type": "stream",
     "text": [
      "Intercept: 1170.3062500819617\n",
      "Slope: [8.9220944]\n"
     ]
    }
   ],
   "source": [
    "#Set the date as index\n",
    "df_merged_quandl = df_merged_quandl.set_index(pd.DatetimeIndex(df_merged_quandl['Date'].values))\n",
    "df_merged_quandl\n",
    "\n",
    "# Plot the linear regression line and the close price\n",
    "df_2 = df_merged_quandl.copy()\n",
    "\n",
    "#Create a new column called 'Numbers' that ranges from 0 to the length of the data set\n",
    "df_2['Numbers'] = list(range (0, len(df_2)))\n",
    "\n",
    "#Store the 'Numbers' column into a variable called 'X' as an array\n",
    "X = np.array(df_2[['Numbers']])\n",
    "\n",
    "#Store the close price as an array in a variable called 'Y'\n",
    "y = df_2['S&P 500'].values\n",
    "\n",
    "#Create and train the model \n",
    "lin_model = LinearRegression().fit(X,y)\n",
    "print('Intercept:', lin_model.intercept_)\n",
    "print('Slope:', lin_model.coef_)"
   ]
  },
  {
   "cell_type": "code",
   "execution_count": 91,
   "id": "5e937f16",
   "metadata": {},
   "outputs": [
    {
     "name": "stderr",
     "output_type": "stream",
     "text": [
      "C:\\Users\\rapha\\AppData\\Local\\Temp\\ipykernel_11176\\1284024183.py:17: UserWarning:\n",
      "\n",
      "Matplotlib is currently using module://matplotlib_inline.backend_inline, which is a non-GUI backend, so cannot show the figure.\n",
      "\n"
     ]
    },
    {
     "data": {
      "image/png": "[encoded data removed]",
      "text/plain": [
       "<Figure size 432x288 with 1 Axes>"
      ]
     },
     "metadata": {
      "needs_background": "light"
     },
     "output_type": "display_data"
    }
   ],
   "source": [
    "#Prepare the data for visualization \n",
    "# Get the predicted prcies from the model and store them into a variable called 'y_pred'\n",
    "\n",
    "y_pred = lin_model.coef_ * X + lin_model.intercept_ #y - mx + b\n",
    "\n",
    "#Store the predicted value in a new value called 'Pred'\n",
    "df_2['Pred'] = y_pred \n",
    "\n",
    "#Plot the data\n",
    "\n",
    "import plotly.express as px\n",
    "fig = plt.figure()\n",
    "plt.plot(df_2.index, df_2['S&P 500'])\n",
    "plt.plot(df_2.index, df_2['Pred'])\n",
    "plt.title(\"Close Price History\")\n",
    "\n",
    "fig.show();"
   ]
  },
  {
   "cell_type": "code",
   "execution_count": 92,
   "id": "13d28c46",
   "metadata": {},
   "outputs": [
    {
     "data": {
      "text/plain": [
       "0.6638045430809688"
      ]
     },
     "execution_count": 92,
     "metadata": {},
     "output_type": "execute_result"
    }
   ],
   "source": [
    "#How good is the model ? \n",
    "\n",
    "r2_score(df_2['S&P 500'], df_2['Pred'])"
   ]
  },
  {
   "cell_type": "code",
   "execution_count": 93,
   "id": "2bcc4c97",
   "metadata": {},
   "outputs": [
    {
     "data": {
      "text/plain": [
       "array([3865.77875822])"
      ]
     },
     "execution_count": 93,
     "metadata": {},
     "output_type": "execute_result"
    }
   ],
   "source": [
    "# Show the possbile price for the next day based on the model\n",
    "lin_model.coef_ * len(df_2) +1 + lin_model.intercept_\n",
    "\n",
    "# price for tomorrow should be 3569..."
   ]
  },
  {
   "cell_type": "code",
   "execution_count": null,
   "id": "81ddb423",
   "metadata": {},
   "outputs": [],
   "source": []
  }
 ],
 "metadata": {
  "kernelspec": {
   "display_name": "spacy",
   "language": "python",
   "name": "spacy"
  },
  "language_info": {
   "codemirror_mode": {
    "name": "ipython",
    "version": 3
   },
   "file_extension": ".py",
   "mimetype": "text/x-python",
   "name": "python",
   "nbconvert_exporter": "python",
   "pygments_lexer": "ipython3",
   "version": "3.10.4"
  }
 },
 "nbformat": 4,
 "nbformat_minor": 5
}
